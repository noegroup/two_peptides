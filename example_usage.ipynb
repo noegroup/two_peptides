{
 "cells": [
  {
   "cell_type": "markdown",
   "id": "98934d51",
   "metadata": {},
   "source": [
    "# Processing the All-atom Data"
   ]
  },
  {
   "cell_type": "markdown",
   "id": "389051d2",
   "metadata": {},
   "source": [
    "## TL;DR"
   ]
  },
  {
   "cell_type": "code",
   "execution_count": 1,
   "id": "436789d2",
   "metadata": {},
   "outputs": [
    {
     "name": "stdout",
     "output_type": "stream",
     "text": [
      "<HDF5 group \"/MINI\" (1213 members)>\n",
      "Available Data: ['aa_coords', 'aa_forces', 'bias_energy', 'box_vectors', 'd0', 'distance', 'k', 'unbiased_energy']\n",
      "Coordinate shape: (27000, 101, 3)\n",
      "<mdtraj.Topology with 2 chains, 8 residues, 101 atoms, 124 bonds>\n"
     ]
    }
   ],
   "source": [
    "import h5py\n",
    "DATA_FILE = \"/import/a12/users/kraemea88/two_peptides/data/allatom.h5\"\n",
    "with h5py.File(DATA_FILE, \"r\") as data:\n",
    "    print(data[\"MINI\"])\n",
    "    print(\"Available Data:\", list(data[\"MINI\"][\"IL_LF\"].keys()))\n",
    "    print(\"Coordinate shape:\", data[\"MINI\"][\"IL_LF\"][\"aa_coords\"].shape)\n",
    "    \n",
    "    from two_peptides.h5 import string_to_topology\n",
    "    print(string_to_topology(data[\"MINI\"][\"IL_LF\"].attrs[\"topology\"]))\n",
    "   "
   ]
  },
  {
   "cell_type": "markdown",
   "id": "8a2155ab",
   "metadata": {},
   "source": [
    "## Read the Data"
   ]
  },
  {
   "cell_type": "code",
   "execution_count": 2,
   "id": "864b4600",
   "metadata": {},
   "outputs": [],
   "source": [
    "DATA_FILE = \"/import/a12/users/kraemea88/two_peptides/data/allatom.h5\"\n",
    "\n",
    "import h5py\n",
    "ALL_ATOM_FILE = h5py.File(DATA_FILE, \"r\")\n",
    "ALL_ATOM_DATA = ALL_ATOM_FILE[\"MINI\"]\n"
   ]
  },
  {
   "cell_type": "markdown",
   "id": "b702c09a",
   "metadata": {},
   "source": [
    "You can look at all the pairs in the data as `ALL_ATOM_DATA.keys()`. For each pair, there are the following data: \n"
   ]
  },
  {
   "cell_type": "code",
   "execution_count": 3,
   "id": "16694eb6",
   "metadata": {},
   "outputs": [
    {
     "data": {
      "text/plain": [
       "<KeysViewHDF5 ['aa_coords', 'aa_forces', 'bias_energy', 'box_vectors', 'd0', 'distance', 'k', 'unbiased_energy']>"
      ]
     },
     "execution_count": 3,
     "metadata": {},
     "output_type": "execute_result"
    }
   ],
   "source": [
    "PEPTIDE_PAIR = \"IL_LF\"\n",
    "ALL_ATOM_DATA[PEPTIDE_PAIR].keys()"
   ]
  },
  {
   "cell_type": "markdown",
   "id": "40ce2a34",
   "metadata": {},
   "source": [
    "as well as metadata (the mdtraj topology)"
   ]
  },
  {
   "cell_type": "code",
   "execution_count": 4,
   "id": "f36bb118",
   "metadata": {},
   "outputs": [
    {
     "data": {
      "text/plain": [
       "<KeysViewHDF5 ['topology']>"
      ]
     },
     "execution_count": 4,
     "metadata": {},
     "output_type": "execute_result"
    }
   ],
   "source": [
    "ALL_ATOM_DATA[PEPTIDE_PAIR].attrs.keys()"
   ]
  },
  {
   "cell_type": "markdown",
   "id": "075851a4",
   "metadata": {},
   "source": [
    "## Access the topology"
   ]
  },
  {
   "cell_type": "code",
   "execution_count": 5,
   "id": "a15f0393",
   "metadata": {},
   "outputs": [],
   "source": [
    "from two_peptides.h5 import string_to_topology\n",
    "TOPOLOGY = string_to_topology(ALL_ATOM_DATA[PEPTIDE_PAIR].attrs[\"topology\"])"
   ]
  },
  {
   "cell_type": "markdown",
   "id": "5c30ea27",
   "metadata": {},
   "source": [
    "## Define the embedding"
   ]
  },
  {
   "cell_type": "code",
   "execution_count": 6,
   "id": "ab19e618",
   "metadata": {},
   "outputs": [
    {
     "name": "stdout",
     "output_type": "stream",
     "text": [
      "The embedding_map from the transferable CG project: {'ALA': 1, 'CYS': 2, 'ASP': 3, 'GLU': 4, 'PHE': 5, 'GLY': 6, 'HIS': 7, 'ILE': 8, 'LYS': 9, 'LEU': 10, 'MET': 11, 'ASN': 12, 'PRO': 13, 'GLN': 14, 'ARG': 15, 'SER': 16, 'THR': 17, 'VAL': 18, 'TRP': 19, 'TYR': 20, 'N': 21, 'CA': 22, 'C': 23, 'O': 24}\n"
     ]
    }
   ],
   "source": [
    "from two_peptides.meta import embedding_map\n",
    "import mdtraj as md \n",
    "\n",
    "print(\"The embedding_map from the transferable CG project:\", embedding_map)\n",
    "\n",
    "\n",
    "def embedding(atom: md.core.topology.Atom) -> int:\n",
    "    \n",
    "    # cap embeddings\n",
    "    #ace_embedding = {\"CH3\": 25, \"C\": 26, \"O\": 27}\n",
    "    #nme_embedding = {\"N\": 28, \"C\": 29}\n",
    "    ace_embedding = {\"C\": 25}\n",
    "    nme_embedding = {\"N\": 26}\n",
    "    \n",
    "    if atom.residue.name == \"NME\":\n",
    "        return nme_embedding.get(atom.name, None)\n",
    "    elif atom.residue.name == \"ACE\":\n",
    "        return ace_embedding.get(atom.name, None)\n",
    "    elif atom.residue.name in embedding_map:\n",
    "        # Heavy-backbone embedding from the transferable CG project\n",
    "        if atom.name in [\"N\", \"CA\", \"C\", \"O\"]:\n",
    "            return embedding_map[atom.name]\n",
    "        elif atom.name == \"CB\":\n",
    "            return embedding_map[atom.residue.name]\n",
    "    else:\n",
    "        return None\n",
    "    "
   ]
  },
  {
   "cell_type": "code",
   "execution_count": 7,
   "id": "0c90fa0b",
   "metadata": {},
   "outputs": [],
   "source": [
    "BEADS = [atom.index for atom in TOPOLOGY.atoms if embedding(atom) is not None]\n",
    "CG_TOPOLOGY = TOPOLOGY.subset(BEADS)"
   ]
  },
  {
   "cell_type": "code",
   "execution_count": 8,
   "id": "50e709ea",
   "metadata": {},
   "outputs": [],
   "source": [
    "from typing import Callable\n",
    "import numpy as np\n",
    "\n",
    "def make_coordinate_mapping(topology: md.Topology, embedding: Callable) -> np.ndarray:\n",
    "    \"\"\"slice mapping based on the embedding\"\"\"\n",
    "    beads = [atom.index for atom in topology.atoms if embedding(atom) is not None]\n",
    "    coordinate_mapping = (np.array(beads)[..., None] == np.arange(topology.n_atoms))\n",
    "    return coordinate_mapping.astype(float)\n",
    "\n",
    "COORDINATE_MAPPING = make_coordinate_mapping(TOPOLOGY, embedding)"
   ]
  },
  {
   "cell_type": "code",
   "execution_count": 9,
   "id": "fb2cc012",
   "metadata": {},
   "outputs": [],
   "source": [
    "def make_force_mapping(topology: md.Topology, coordinate_mapping: np.ndarray) -> np.ndarray:\n",
    "    \"\"\"basic aggregation of hydrogens\"\"\"\n",
    "    force_mapping = coordinate_mapping.copy()\n",
    "    for atom1, atom2 in topology.bonds:\n",
    "        if atom1.element == md.core.element.hydrogen:\n",
    "            heavy, hydrogen = atom2, atom1\n",
    "        elif atom2.element == md.core.element.hydrogen:\n",
    "            heavy, hydrogen = atom1, atom2\n",
    "        else:\n",
    "            continue\n",
    "        force_mapping[:, hydrogen.index] = force_mapping[:, heavy.index]\n",
    "    return force_mapping\n",
    "\n",
    "FORCE_MAPPING = make_force_mapping(TOPOLOGY, COORDINATE_MAPPING)"
   ]
  },
  {
   "cell_type": "markdown",
   "id": "8b16e509",
   "metadata": {},
   "source": [
    "## Process all-atom data"
   ]
  },
  {
   "cell_type": "code",
   "execution_count": 10,
   "id": "e21186d6",
   "metadata": {},
   "outputs": [
    {
     "data": {
      "text/plain": [
       "(27000, 24, 3)"
      ]
     },
     "execution_count": 10,
     "metadata": {},
     "output_type": "execute_result"
    }
   ],
   "source": [
    "CG_COORDINATES = COORDINATE_MAPPING @ ALL_ATOM_DATA[PEPTIDE_PAIR][\"aa_coords\"]\n",
    "CG_COORDINATES.shape"
   ]
  },
  {
   "cell_type": "code",
   "execution_count": 11,
   "id": "13fbd84e",
   "metadata": {},
   "outputs": [],
   "source": [
    "FORCE_MAPPING = COORDINATE_MAPPING\n",
    "CG_FORCES = FORCE_MAPPING @ ALL_ATOM_DATA[PEPTIDE_PAIR][\"aa_forces\"]"
   ]
  },
  {
   "cell_type": "code",
   "execution_count": 12,
   "id": "7fbfbaca",
   "metadata": {},
   "outputs": [],
   "source": [
    "def process_pair(\n",
    "    peptide_pair: str,\n",
    "    embedding: Callable,\n",
    "    output_file: h5py.File,\n",
    "    input_file: h5py.File = ALL_ATOM_FILE,\n",
    "):\n",
    "    #read\n",
    "    pair_data = input_file[\"MINI\"][peptide_pair]\n",
    "    topology = string_to_topology(pair_data.attrs[\"topology\"])\n",
    "    cg_embeds = np.array(\n",
    "        [embedding(atom) \n",
    "         for atom in topology.atoms \n",
    "         if embedding(atom) is not None]\n",
    "    )\n",
    "    coordinate_mapping = make_coordinate_mapping(topology, embedding)\n",
    "    force_mapping = make_force_mapping(topology, coordinate_mapping)\n",
    "    cg_coordinates = coordinate_mapping @ pair_data[\"aa_coords\"]\n",
    "    cg_forces = force_mapping @ pair_data[\"aa_forces\"]    \n",
    "    \n",
    "    #write \n",
    "    minigroup = outfile.require_group(\"MINI\")\n",
    "    pairgroup = minigroup.require_group(peptide_pair)\n",
    "    pairgroup.attrs[\"cg_embeds\"] = cg_embeds\n",
    "    pairgroup.attrs[\"N_frames\"] = cg_coordinates.shape[0]\n",
    "    pairgroup.create_dataset(\n",
    "        \"cg_coords\", \n",
    "        cg_coordinates.shape, \n",
    "        np.float32, \n",
    "        cg_coordinates\n",
    "    )\n",
    "    pairgroup.create_dataset(\n",
    "        \"cg_forces\", \n",
    "        cg_forces.shape, \n",
    "        np.float32, \n",
    "        cg_forces\n",
    "    )\n"
   ]
  },
  {
   "cell_type": "code",
   "execution_count": null,
   "id": "0327b184",
   "metadata": {},
   "outputs": [
    {
     "data": {
      "application/vnd.jupyter.widget-view+json": {
       "model_id": "759471cf43ca4f18bbf9d885a1fde437",
       "version_major": 2,
       "version_minor": 0
      },
      "text/plain": [
       "  0%|          | 0/10 [00:00<?, ?it/s]"
      ]
     },
     "metadata": {},
     "output_type": "display_data"
    }
   ],
   "source": [
    "from tqdm.auto import tqdm\n",
    "\n",
    "with h5py.File(\"data/test_heavybackbone.h5\", \"w\") as outfile:\n",
    "    progress_bar = tqdm(list(ALL_ATOM_DATA.keys())[:10])\n",
    "    for peptide_pair in progress_bar:\n",
    "        progress_bar.desc = peptide_pair\n",
    "        process_pair(peptide_pair, embedding, outfile)"
   ]
  },
  {
   "cell_type": "code",
   "execution_count": 14,
   "id": "f16b1cb0",
   "metadata": {},
   "outputs": [
    {
     "name": "stdout",
     "output_type": "stream",
     "text": [
      "<HDF5 file \"test_heavybackbone.h5\" (mode r)>\n"
     ]
    }
   ],
   "source": [
    "with h5py.File(\"data/test_heavybackbone.h5\", \"r\") as outfile:\n",
    "    print(outfile)"
   ]
  },
  {
   "cell_type": "code",
   "execution_count": null,
   "id": "0120dbae",
   "metadata": {},
   "outputs": [],
   "source": []
  }
 ],
 "metadata": {
  "kernelspec": {
   "display_name": "Python 3 (ipykernel)",
   "language": "python",
   "name": "python3"
  },
  "language_info": {
   "codemirror_mode": {
    "name": "ipython",
    "version": 3
   },
   "file_extension": ".py",
   "mimetype": "text/x-python",
   "name": "python",
   "nbconvert_exporter": "python",
   "pygments_lexer": "ipython3",
   "version": "3.9.13"
  }
 },
 "nbformat": 4,
 "nbformat_minor": 5
}
